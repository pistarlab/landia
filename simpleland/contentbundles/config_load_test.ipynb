{
 "cells": [
  {
   "cell_type": "code",
   "execution_count": 1,
   "id": "8e366dd4-41de-4a31-8c2a-8330fedb2dfe",
   "metadata": {},
   "outputs": [],
   "source": [
    "import json\n",
    "with open(\"survival_grid/survival_grid_1_game_config.json\",'r') as f:\n",
    "    game_config = json.load(f)"
   ]
  },
  {
   "cell_type": "code",
   "execution_count": 2,
   "id": "87bd298c-1c7a-428d-a173-1334cc75554b",
   "metadata": {},
   "outputs": [
    {
     "data": {
      "text/plain": [
       "{'game_id': 'survival_grid',\n",
       " 'tile_size': 16,\n",
       " 'start_map': 'main',\n",
       " 'asset_bundle': 'asset_bundle',\n",
       " 'player_types': {'1': {'default_camera_zoom': 160, 'object_type': 'human'}},\n",
       " 'maps': {'main': {'format': 'txt', 'layers': ['may_layer_1.txt']}},\n",
       " 'objects': {'human1': {'obj_type': 'Human',\n",
       "   'sound_config': 'human_sound1',\n",
       "   'model_config': 'model_config'},\n",
       "  'monster1': {'obj_type': 'Human',\n",
       "   'sound_config': 'human_sound1',\n",
       "   'model_config': 'model_config'}}}"
      ]
     },
     "execution_count": 2,
     "metadata": {},
     "output_type": "execute_result"
    }
   ],
   "source": [
    "game_config"
   ]
  },
  {
   "cell_type": "code",
   "execution_count": null,
   "id": "3cc193f5-6363-45d6-9d07-12677a4e2361",
   "metadata": {},
   "outputs": [],
   "source": []
  }
 ],
 "metadata": {
  "kernelspec": {
   "display_name": "Python 3",
   "language": "python",
   "name": "python3"
  },
  "language_info": {
   "codemirror_mode": {
    "name": "ipython",
    "version": 3
   },
   "file_extension": ".py",
   "mimetype": "text/x-python",
   "name": "python",
   "nbconvert_exporter": "python",
   "pygments_lexer": "ipython3",
   "version": "3.8.8"
  }
 },
 "nbformat": 4,
 "nbformat_minor": 5
}
